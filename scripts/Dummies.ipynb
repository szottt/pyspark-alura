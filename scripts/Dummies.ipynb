{
 "cells": [
  {
   "cell_type": "code",
   "execution_count": null,
   "metadata": {},
   "outputs": [],
   "source": []
  },
  {
   "cell_type": "code",
   "execution_count": 1,
   "metadata": {},
   "outputs": [],
   "source": [
    "from pyspark.sql import SparkSession\n",
    "from pyspark.sql import functions as f"
   ]
  },
  {
   "cell_type": "code",
   "execution_count": 2,
   "metadata": {},
   "outputs": [
    {
     "name": "stderr",
     "output_type": "stream",
     "text": [
      "your 131072x1 screen size is bogus. expect trouble\n"
     ]
    },
    {
     "name": "stdout",
     "output_type": "stream",
     "text": [
      "24/03/07 10:39:29 WARN Utils: Your hostname, DESKTOP-L5AEESA resolves to a loopback address: 127.0.1.1; using 172.29.209.109 instead (on interface eth0)\n",
      "24/03/07 10:39:29 WARN Utils: Set SPARK_LOCAL_IP if you need to bind to another address\n"
     ]
    },
    {
     "name": "stderr",
     "output_type": "stream",
     "text": [
      "Setting default log level to \"WARN\".\n",
      "To adjust logging level use sc.setLogLevel(newLevel). For SparkR, use setLogLevel(newLevel).\n"
     ]
    },
    {
     "name": "stdout",
     "output_type": "stream",
     "text": [
      "24/03/07 10:39:30 WARN NativeCodeLoader: Unable to load native-hadoop library for your platform... using builtin-java classes where applicable\n",
      "24/03/07 10:39:31 WARN Utils: Service 'SparkUI' could not bind on port 4040. Attempting port 4041.\n"
     ]
    },
    {
     "data": {
      "text/html": [
       "\n",
       "            <div>\n",
       "                <p><b>SparkSession - in-memory</b></p>\n",
       "                \n",
       "        <div>\n",
       "            <p><b>SparkContext</b></p>\n",
       "\n",
       "            <p><a href=\"http://172.29.209.109:4041\">Spark UI</a></p>\n",
       "\n",
       "            <dl>\n",
       "              <dt>Version</dt>\n",
       "                <dd><code>v3.3.2</code></dd>\n",
       "              <dt>Master</dt>\n",
       "                <dd><code>local[*]</code></dd>\n",
       "              <dt>AppName</dt>\n",
       "                <dd><code>Classificação com Spark</code></dd>\n",
       "            </dl>\n",
       "        </div>\n",
       "        \n",
       "            </div>\n",
       "        "
      ],
      "text/plain": [
       "<pyspark.sql.session.SparkSession at 0x7faa04318760>"
      ]
     },
     "execution_count": 2,
     "metadata": {},
     "output_type": "execute_result"
    }
   ],
   "source": [
    "spark = SparkSession.builder.master('local[*]').appName(\"Classificação com Spark\").getOrCreate()\n",
    "spark"
   ]
  },
  {
   "cell_type": "code",
   "execution_count": 3,
   "metadata": {},
   "outputs": [],
   "source": [
    "dados = spark.read.csv('/home/szot/projetos/eng/pyspark-modelos-alura/data/dados_clientes.csv', sep=',', header=True, inferSchema=True)"
   ]
  },
  {
   "cell_type": "code",
   "execution_count": 5,
   "metadata": {},
   "outputs": [],
   "source": [
    "colunasBinarias = [\n",
    "    'Churn',\n",
    "    'Conjuge',\n",
    "    'Dependentes',\n",
    "    'TelefoneFixo',\n",
    "    'MaisDeUmaLinhaTelefonica',\n",
    "    'SegurancaOnline',\n",
    "    'BackupOnline',\n",
    "    'SeguroDispositivo',\n",
    "    'SuporteTecnico',\n",
    "    'TVaCabo',\n",
    "    'StreamingFilmes',\n",
    "    'ContaCorreio'\n",
    "]\n",
    "\n",
    "todasColunas = [f.when(f.col(c)=='Sim',1).otherwise(0).alias(c) for c in colunasBinarias]\n",
    "\n",
    "for coluna in reversed(dados.columns):\n",
    "    if coluna not in colunasBinarias:\n",
    "        todasColunas.insert(0, coluna)\n",
    "todasColunas\n",
    "\n",
    "dataset = dados.select(todasColunas)"
   ]
  },
  {
   "cell_type": "code",
   "execution_count": 6,
   "metadata": {},
   "outputs": [],
   "source": [
    "Internet = dataset.groupBy('id').pivot('Internet').agg(f.lit(1)).na.fill(0)\n",
    "TipoContrato = dataset.groupBy('id').pivot('TipoContrato').agg(f.lit(1)).na.fill(0)\n",
    "MetodoPagamento = dataset.groupBy('id').pivot('MetodoPagamento').agg(f.lit(1)).na.fill(0)"
   ]
  },
  {
   "cell_type": "code",
   "execution_count": 7,
   "metadata": {},
   "outputs": [
    {
     "name": "stdout",
     "output_type": "stream",
     "text": [
      "24/03/07 10:39:50 WARN package: Truncated the string representation of a plan since it was too large. This behavior can be adjusted by setting 'spark.sql.debug.maxToStringFields'.\n",
      "+----+----------+---------------+-----------------+-----+-------+-----------+------------+------------------------+---------------+------------+-----------------+--------------+-------+---------------+------------+------------+--------------------+------------+------------------------+------------------+---------------------+-----------------------------+-----------------------------+--------------------------------+----------------------+\n",
      "|  id|Mais65anos|MesesDeContrato|    MesesCobrados|Churn|Conjuge|Dependentes|TelefoneFixo|MaisDeUmaLinhaTelefonica|SegurancaOnline|BackupOnline|SeguroDispositivo|SuporteTecnico|TVaCabo|StreamingFilmes|ContaCorreio|Internet_DSL|Internet_FibraOptica|Internet_Nao|TipoContrato_Mensalmente|TipoContrato_UmAno|TipoContrato_DoisAnos|MetodoPagamento_DebitoEmConta|MetodoPagamento_CartaoCredito|MetodoPagamento_BoletoEletronico|MetodoPagamento_Boleto|\n",
      "+----+----------+---------------+-----------------+-----+-------+-----------+------------+------------------------+---------------+------------+-----------------+--------------+-------+---------------+------------+------------+--------------------+------------+------------------------+------------------+---------------------+-----------------------------+-----------------------------+--------------------------------+----------------------+\n",
      "|7982|         0|              1|45.30540797610398|    1|      0|          0|           0|                       0|              0|           0|                0|             0|      1|              1|           1|           1|                   0|           0|                       1|                 0|                    0|                            0|                            0|                               1|                     0|\n",
      "|9465|         0|             60|103.6142230120257|    1|      1|          0|           1|                       1|              0|           1|                1|             0|      1|              1|           1|           0|                   1|           0|                       1|                 0|                    0|                            0|                            0|                               1|                     0|\n",
      "|2122|         0|             12|            75.85|    0|      0|          0|           1|                       1|              0|           0|                0|             1|      1|              1|           1|           1|                   0|           0|                       0|                 1|                    0|                            0|                            0|                               0|                     1|\n",
      "|3997|         0|             69|            61.45|    0|      1|          0|           1|                       0|              0|           1|                0|             0|      0|              1|           1|           1|                   0|           0|                       0|                 0|                    1|                            0|                            1|                               0|                     0|\n",
      "|6654|         0|              7|             86.5|    1|      1|          0|           1|                       1|              0|           0|                0|             0|      1|              0|           1|           0|                   1|           0|                       1|                 0|                    0|                            0|                            0|                               1|                     0|\n",
      "|7880|         0|             14|85.03742670311915|    1|      0|          0|           1|                       1|              0|           0|                0|             0|      0|              1|           1|           0|                   1|           0|                       1|                 0|                    0|                            0|                            0|                               1|                     0|\n",
      "|4519|         0|             57|            109.4|    0|      1|          0|           1|                       1|              0|           1|                1|             1|      1|              1|           1|           0|                   1|           0|                       0|                 1|                    0|                            1|                            0|                               0|                     0|\n",
      "|6466|         0|             18|            74.15|    0|      0|          0|           1|                       1|              0|           0|                0|             0|      0|              0|           0|           0|                   1|           0|                       1|                 0|                    0|                            0|                            0|                               0|                     1|\n",
      "| 496|         0|             28|             60.9|    0|      1|          0|           1|                       0|              1|           1|                0|             1|      0|              0|           0|           1|                   0|           0|                       1|                 0|                    0|                            0|                            0|                               0|                     1|\n",
      "|7833|         0|             46| 80.8824189403559|    1|      1|          0|           1|                       0|              0|           0|                0|             0|      0|              1|           1|           0|                   1|           0|                       1|                 0|                    0|                            0|                            0|                               1|                     0|\n",
      "|1591|         0|             17|             21.1|    0|      0|          0|           1|                       0|              0|           0|                0|             0|      0|              0|           0|           0|                   0|           1|                       1|                 0|                    0|                            0|                            1|                               0|                     0|\n",
      "|2866|         0|             12|             84.6|    0|      0|          0|           1|                       0|              0|           1|                0|             0|      0|              1|           1|           0|                   1|           0|                       1|                 0|                    0|                            0|                            0|                               1|                     0|\n",
      "|8592|         0|              5|82.71735660557214|    1|      1|          0|           1|                       1|              0|           0|                0|             0|      1|              0|           1|           0|                   1|           0|                       1|                 0|                    0|                            0|                            0|                               1|                     0|\n",
      "|1829|         0|              8|            74.85|    0|      0|          0|           1|                       1|              0|           0|                0|             0|      0|              0|           1|           0|                   1|           0|                       1|                 0|                    0|                            0|                            0|                               1|                     0|\n",
      "| 463|         0|              7|             99.8|    1|      0|          0|           1|                       1|              0|           1|                0|             0|      1|              1|           1|           0|                   1|           0|                       1|                 0|                    0|                            0|                            0|                               1|                     0|\n",
      "|4900|         1|             37|             85.7|    1|      1|          0|           1|                       1|              0|           0|                0|             0|      1|              0|           1|           0|                   1|           0|                       1|                 0|                    0|                            0|                            0|                               1|                     0|\n",
      "|4818|         1|             64|             80.3|    0|      1|          0|           1|                       0|              1|           0|                1|             0|      0|              0|           0|           0|                   1|           0|                       0|                 1|                    0|                            0|                            1|                               0|                     0|\n",
      "|7554|         0|              1|50.74303124820026|    1|      0|          0|           1|                       0|              0|           1|                0|             0|      0|              0|           0|           1|                   0|           0|                       1|                 0|                    0|                            0|                            0|                               1|                     0|\n",
      "|1342|         0|              8|             20.0|    0|      0|          0|           1|                       0|              0|           0|                0|             0|      0|              0|           0|           0|                   0|           1|                       0|                 0|                    1|                            0|                            0|                               0|                     1|\n",
      "|5300|         0|              1|            80.05|    1|      1|          1|           1|                       0|              0|           0|                0|             0|      1|              0|           1|           0|                   1|           0|                       1|                 0|                    0|                            0|                            0|                               0|                     1|\n",
      "+----+----------+---------------+-----------------+-----+-------+-----------+------------+------------------------+---------------+------------+-----------------+--------------+-------+---------------+------------+------------+--------------------+------------+------------------------+------------------+---------------------+-----------------------------+-----------------------------+--------------------------------+----------------------+\n",
      "only showing top 20 rows\n",
      "\n"
     ]
    }
   ],
   "source": [
    "dataset\\\n",
    "    .join(Internet,'id',how='inner')\\\n",
    "    .join(TipoContrato,'id',how='inner')\\\n",
    "    .join(MetodoPagamento,'id',how='inner')\\\n",
    "    .select(\n",
    "        '*',\n",
    "        f.col('DSL').alias('Internet_DSL'),\n",
    "        f.col('FibraOptica').alias('Internet_FibraOptica'),\n",
    "        f.col('Nao').alias('Internet_Nao'),\n",
    "        f.col('Mensalmente').alias('TipoContrato_Mensalmente'),\n",
    "        f.col('UmAno').alias('TipoContrato_UmAno'),\n",
    "        f.col('DoisAnos').alias('TipoContrato_DoisAnos'),\n",
    "        f.col('DebitoEmConta').alias('MetodoPagamento_DebitoEmConta'),\n",
    "        f.col('CartaoCredito').alias('MetodoPagamento_CartaoCredito'),\n",
    "        f.col('BoletoEletronico').alias('MetodoPagamento_BoletoEletronico'),\n",
    "        f.col('Boleto').alias('MetodoPagamento_Boleto')  \n",
    "    ).drop(\n",
    "        'Internet', 'TipoContrato', 'MetodoPagamento', 'DSL',\n",
    "        'FibraOptica', 'Nao', 'Mensalmente', 'UmAno', 'DoisAnos',\n",
    "        'DebitoEmConta', 'CartaoCredito', 'BoletoEletronico','Boleto'\n",
    "    ).show()"
   ]
  },
  {
   "cell_type": "code",
   "execution_count": 10,
   "metadata": {},
   "outputs": [],
   "source": [
    "dataset = dataset\\\n",
    "    .join(Internet,'id',how='inner')\\\n",
    "    .join(TipoContrato,'id',how='inner')\\\n",
    "    .join(MetodoPagamento,'id',how='inner')\\\n",
    "    .select(\n",
    "        '*',\n",
    "        f.col('DSL').alias('Internet_DSL'),\n",
    "        f.col('FibraOptica').alias('Internet_FibraOptica'),\n",
    "        f.col('Nao').alias('Internet_Nao'),\n",
    "        f.col('Mensalmente').alias('TipoContrato_Mensalmente'),\n",
    "        f.col('UmAno').alias('TipoContrato_UmAno'),\n",
    "        f.col('DoisAnos').alias('TipoContrato_DoisAnos'),\n",
    "        f.col('DebitoEmConta').alias('MetodoPagamento_DebitoEmConta'),\n",
    "        f.col('CartaoCredito').alias('MetodoPagamento_CartaoCredito'),\n",
    "        f.col('BoletoEletronico').alias('MetodoPagamento_BoletoEletronico'),\n",
    "        f.col('Boleto').alias('MetodoPagamento_Boleto')  \n",
    "    ).drop(\n",
    "        'Internet', 'TipoContrato', 'MetodoPagamento', 'DSL',\n",
    "        'FibraOptica', 'Nao', 'Mensalmente', 'UmAno', 'DoisAnos',\n",
    "        'DebitoEmConta', 'CartaoCredito', 'BoletoEletronico','Boleto'\n",
    "    )"
   ]
  },
  {
   "cell_type": "code",
   "execution_count": 11,
   "metadata": {},
   "outputs": [
    {
     "name": "stdout",
     "output_type": "stream",
     "text": [
      "+----+----------+---------------+-----------------+-----+-------+-----------+------------+------------------------+---------------+------------+-----------------+--------------+-------+---------------+------------+------------+--------------------+------------+------------------------+------------------+---------------------+-----------------------------+-----------------------------+--------------------------------+----------------------+------------+--------------------+------------+------------------------+------------------+---------------------+-----------------------------+-----------------------------+--------------------------------+----------------------+\n",
      "|  id|Mais65anos|MesesDeContrato|    MesesCobrados|Churn|Conjuge|Dependentes|TelefoneFixo|MaisDeUmaLinhaTelefonica|SegurancaOnline|BackupOnline|SeguroDispositivo|SuporteTecnico|TVaCabo|StreamingFilmes|ContaCorreio|Internet_DSL|Internet_FibraOptica|Internet_Nao|TipoContrato_Mensalmente|TipoContrato_UmAno|TipoContrato_DoisAnos|MetodoPagamento_DebitoEmConta|MetodoPagamento_CartaoCredito|MetodoPagamento_BoletoEletronico|MetodoPagamento_Boleto|Internet_DSL|Internet_FibraOptica|Internet_Nao|TipoContrato_Mensalmente|TipoContrato_UmAno|TipoContrato_DoisAnos|MetodoPagamento_DebitoEmConta|MetodoPagamento_CartaoCredito|MetodoPagamento_BoletoEletronico|MetodoPagamento_Boleto|\n",
      "+----+----------+---------------+-----------------+-----+-------+-----------+------------+------------------------+---------------+------------+-----------------+--------------+-------+---------------+------------+------------+--------------------+------------+------------------------+------------------+---------------------+-----------------------------+-----------------------------+--------------------------------+----------------------+------------+--------------------+------------+------------------------+------------------+---------------------+-----------------------------+-----------------------------+--------------------------------+----------------------+\n",
      "|7982|         0|              1|45.30540797610398|    1|      0|          0|           0|                       0|              0|           0|                0|             0|      1|              1|           1|           1|                   0|           0|                       1|                 0|                    0|                            0|                            0|                               1|                     0|           1|                   0|           0|                       1|                 0|                    0|                            0|                            0|                               1|                     0|\n",
      "|9465|         0|             60|103.6142230120257|    1|      1|          0|           1|                       1|              0|           1|                1|             0|      1|              1|           1|           0|                   1|           0|                       1|                 0|                    0|                            0|                            0|                               1|                     0|           0|                   1|           0|                       1|                 0|                    0|                            0|                            0|                               1|                     0|\n",
      "|2122|         0|             12|            75.85|    0|      0|          0|           1|                       1|              0|           0|                0|             1|      1|              1|           1|           1|                   0|           0|                       0|                 1|                    0|                            0|                            0|                               0|                     1|           1|                   0|           0|                       0|                 1|                    0|                            0|                            0|                               0|                     1|\n",
      "|3997|         0|             69|            61.45|    0|      1|          0|           1|                       0|              0|           1|                0|             0|      0|              1|           1|           1|                   0|           0|                       0|                 0|                    1|                            0|                            1|                               0|                     0|           1|                   0|           0|                       0|                 0|                    1|                            0|                            1|                               0|                     0|\n",
      "|6654|         0|              7|             86.5|    1|      1|          0|           1|                       1|              0|           0|                0|             0|      1|              0|           1|           0|                   1|           0|                       1|                 0|                    0|                            0|                            0|                               1|                     0|           0|                   1|           0|                       1|                 0|                    0|                            0|                            0|                               1|                     0|\n",
      "|7880|         0|             14|85.03742670311915|    1|      0|          0|           1|                       1|              0|           0|                0|             0|      0|              1|           1|           0|                   1|           0|                       1|                 0|                    0|                            0|                            0|                               1|                     0|           0|                   1|           0|                       1|                 0|                    0|                            0|                            0|                               1|                     0|\n",
      "|4519|         0|             57|            109.4|    0|      1|          0|           1|                       1|              0|           1|                1|             1|      1|              1|           1|           0|                   1|           0|                       0|                 1|                    0|                            1|                            0|                               0|                     0|           0|                   1|           0|                       0|                 1|                    0|                            1|                            0|                               0|                     0|\n",
      "|6466|         0|             18|            74.15|    0|      0|          0|           1|                       1|              0|           0|                0|             0|      0|              0|           0|           0|                   1|           0|                       1|                 0|                    0|                            0|                            0|                               0|                     1|           0|                   1|           0|                       1|                 0|                    0|                            0|                            0|                               0|                     1|\n",
      "| 496|         0|             28|             60.9|    0|      1|          0|           1|                       0|              1|           1|                0|             1|      0|              0|           0|           1|                   0|           0|                       1|                 0|                    0|                            0|                            0|                               0|                     1|           1|                   0|           0|                       1|                 0|                    0|                            0|                            0|                               0|                     1|\n",
      "|7833|         0|             46| 80.8824189403559|    1|      1|          0|           1|                       0|              0|           0|                0|             0|      0|              1|           1|           0|                   1|           0|                       1|                 0|                    0|                            0|                            0|                               1|                     0|           0|                   1|           0|                       1|                 0|                    0|                            0|                            0|                               1|                     0|\n",
      "|1591|         0|             17|             21.1|    0|      0|          0|           1|                       0|              0|           0|                0|             0|      0|              0|           0|           0|                   0|           1|                       1|                 0|                    0|                            0|                            1|                               0|                     0|           0|                   0|           1|                       1|                 0|                    0|                            0|                            1|                               0|                     0|\n",
      "|2866|         0|             12|             84.6|    0|      0|          0|           1|                       0|              0|           1|                0|             0|      0|              1|           1|           0|                   1|           0|                       1|                 0|                    0|                            0|                            0|                               1|                     0|           0|                   1|           0|                       1|                 0|                    0|                            0|                            0|                               1|                     0|\n",
      "|8592|         0|              5|82.71735660557214|    1|      1|          0|           1|                       1|              0|           0|                0|             0|      1|              0|           1|           0|                   1|           0|                       1|                 0|                    0|                            0|                            0|                               1|                     0|           0|                   1|           0|                       1|                 0|                    0|                            0|                            0|                               1|                     0|\n",
      "|1829|         0|              8|            74.85|    0|      0|          0|           1|                       1|              0|           0|                0|             0|      0|              0|           1|           0|                   1|           0|                       1|                 0|                    0|                            0|                            0|                               1|                     0|           0|                   1|           0|                       1|                 0|                    0|                            0|                            0|                               1|                     0|\n",
      "| 463|         0|              7|             99.8|    1|      0|          0|           1|                       1|              0|           1|                0|             0|      1|              1|           1|           0|                   1|           0|                       1|                 0|                    0|                            0|                            0|                               1|                     0|           0|                   1|           0|                       1|                 0|                    0|                            0|                            0|                               1|                     0|\n",
      "|4900|         1|             37|             85.7|    1|      1|          0|           1|                       1|              0|           0|                0|             0|      1|              0|           1|           0|                   1|           0|                       1|                 0|                    0|                            0|                            0|                               1|                     0|           0|                   1|           0|                       1|                 0|                    0|                            0|                            0|                               1|                     0|\n",
      "|4818|         1|             64|             80.3|    0|      1|          0|           1|                       0|              1|           0|                1|             0|      0|              0|           0|           0|                   1|           0|                       0|                 1|                    0|                            0|                            1|                               0|                     0|           0|                   1|           0|                       0|                 1|                    0|                            0|                            1|                               0|                     0|\n",
      "|7554|         0|              1|50.74303124820026|    1|      0|          0|           1|                       0|              0|           1|                0|             0|      0|              0|           0|           1|                   0|           0|                       1|                 0|                    0|                            0|                            0|                               1|                     0|           1|                   0|           0|                       1|                 0|                    0|                            0|                            0|                               1|                     0|\n",
      "|1342|         0|              8|             20.0|    0|      0|          0|           1|                       0|              0|           0|                0|             0|      0|              0|           0|           0|                   0|           1|                       0|                 0|                    1|                            0|                            0|                               0|                     1|           0|                   0|           1|                       0|                 0|                    1|                            0|                            0|                               0|                     1|\n",
      "|5300|         0|              1|            80.05|    1|      1|          1|           1|                       0|              0|           0|                0|             0|      1|              0|           1|           0|                   1|           0|                       1|                 0|                    0|                            0|                            0|                               0|                     1|           0|                   1|           0|                       1|                 0|                    0|                            0|                            0|                               0|                     1|\n",
      "+----+----------+---------------+-----------------+-----+-------+-----------+------------+------------------------+---------------+------------+-----------------+--------------+-------+---------------+------------+------------+--------------------+------------+------------------------+------------------+---------------------+-----------------------------+-----------------------------+--------------------------------+----------------------+------------+--------------------+------------+------------------------+------------------+---------------------+-----------------------------+-----------------------------+--------------------------------+----------------------+\n",
      "only showing top 20 rows\n",
      "\n"
     ]
    }
   ],
   "source": [
    "dataset.show()"
   ]
  },
  {
   "cell_type": "code",
   "execution_count": null,
   "metadata": {},
   "outputs": [],
   "source": []
  }
 ],
 "metadata": {
  "kernelspec": {
   "display_name": "Python 3",
   "language": "python",
   "name": "python3"
  },
  "language_info": {
   "codemirror_mode": {
    "name": "ipython",
    "version": 3
   },
   "file_extension": ".py",
   "mimetype": "text/x-python",
   "name": "python",
   "nbconvert_exporter": "python",
   "pygments_lexer": "ipython3",
   "version": "3.10.12"
  }
 },
 "nbformat": 4,
 "nbformat_minor": 2
}
